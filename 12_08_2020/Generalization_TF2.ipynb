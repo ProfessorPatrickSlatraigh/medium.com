{
 "cells": [
  {
   "cell_type": "markdown",
   "metadata": {},
   "source": [
    "# Tensorflow 2: Model validation, regularization, and callbacks"
   ]
  },
  {
   "cell_type": "code",
   "execution_count": null,
   "metadata": {},
   "outputs": [],
   "source": [
    "import tensorflow as tf\n",
    "import numpy as np\n",
    "import pandas as pd\n",
    "print(tf.__version__)"
   ]
  },
  {
   "cell_type": "code",
   "execution_count": null,
   "metadata": {},
   "outputs": [],
   "source": [
    "from tensorflow.keras.models import Sequential\n",
    "from tensorflow.keras.layers import Dense\n",
    "from tensorflow.keras.optimizers import Adam\n",
    "from tensorflow.keras.layers import Dense, Flatten, Softmax, Conv2D, MaxPooling2D"
   ]
  },
  {
   "cell_type": "markdown",
   "metadata": {},
   "source": [
    "## Load the Fashion MNIST data"
   ]
  },
  {
   "cell_type": "code",
   "execution_count": null,
   "metadata": {},
   "outputs": [],
   "source": [
    "# Load the Fashion-MNIST dataset\n",
    "fashion_mnist_data = tf.keras.datasets.fashion_mnist\n",
    "(train_images, train_labels), (test_images, test_labels) = fashion_mnist_data.load_data()\n",
    "\n",
    "labels = [\n",
    "    'T-shirt/top',\n",
    "    'Trouser',\n",
    "    'Pullover',\n",
    "    'Dress',\n",
    "    'Coat',\n",
    "    'Sandal',\n",
    "    'Shirt',\n",
    "    'Sneaker',\n",
    "    'Bag',\n",
    "    'Ankle boot'\n",
    "]\n",
    "\n",
    "train_images = train_images/255.0\n",
    "test_images = test_images/255.0\n"
   ]
  },
  {
   "cell_type": "markdown",
   "metadata": {},
   "source": [
    "## Create a sequential model"
   ]
  },
  {
   "cell_type": "code",
   "execution_count": null,
   "metadata": {},
   "outputs": [],
   "source": [
    "model = Sequential([\n",
    "    Conv2D(16, (3,3), activation = 'relu', input_shape=(28,28,1)),\n",
    "    MaxPooling2D((3,3)),\n",
    "    Flatten(),\n",
    "    Dense(10, activation='softmax')\n",
    "])\n",
    "\n",
    "\n",
    "opt = tf.keras.optimizers.Adam(learning_rate=0.005)\n",
    "acc = tf.keras.metrics.SparseCategoricalAccuracy()\n",
    "mae = tf.keras.metrics.MeanAbsoluteError()\n",
    "\n",
    "model.compile(optimizer=opt, loss = 'sparse_categorical_crossentropy',\n",
    "              metrics = [acc, mae]\n",
    "             )\n"
   ]
  },
  {
   "cell_type": "markdown",
   "metadata": {},
   "source": [
    "## Starts the training procedure with 20% validation set"
   ]
  },
  {
   "cell_type": "code",
   "execution_count": null,
   "metadata": {},
   "outputs": [],
   "source": [
    "history = model.fit(train_images[..., np.newaxis], train_labels, epochs=10, batch_size=256, validation_split=0.2)\n"
   ]
  },
  {
   "cell_type": "markdown",
   "metadata": {},
   "source": [
    "## Using regularization"
   ]
  },
  {
   "cell_type": "code",
   "execution_count": null,
   "metadata": {},
   "outputs": [],
   "source": [
    "model = Sequential([\n",
    "    Conv2D(16, (3,3), activation = 'relu', input_shape=(28,28,1), \n",
    "           kernel_regularizer = tf.keras.regularizers.l2(0.01),\n",
    "        bias_regularizer  = tf.keras.regularizers.l2(0.001)),\n",
    "    MaxPooling2D((3,3)),\n",
    "    Flatten(),\n",
    "    Dense(10, activation='softmax')\n",
    "])\n",
    "\n",
    "\n",
    "opt = tf.keras.optimizers.Adam(learning_rate=0.005)\n",
    "acc = tf.keras.metrics.SparseCategoricalAccuracy()\n",
    "mae = tf.keras.metrics.MeanAbsoluteError()\n",
    "\n",
    "model.compile(optimizer=opt, loss = 'sparse_categorical_crossentropy',\n",
    "              metrics = [acc, mae]\n",
    "             )"
   ]
  },
  {
   "cell_type": "code",
   "execution_count": null,
   "metadata": {},
   "outputs": [],
   "source": [
    "history = model.fit(train_images[..., np.newaxis], train_labels, epochs=10, batch_size=256, validation_split=0.2)\n"
   ]
  },
  {
   "cell_type": "markdown",
   "metadata": {},
   "source": [
    "## Callbacks in Tensorflow 2"
   ]
  },
  {
   "cell_type": "code",
   "execution_count": null,
   "metadata": {},
   "outputs": [],
   "source": [
    "from tensorflow.keras.callbacks import Callback"
   ]
  },
  {
   "cell_type": "code",
   "execution_count": null,
   "metadata": {},
   "outputs": [],
   "source": [
    "class trainingcallback(Callback):\n",
    "    def on_train_begin(self, logs = None):\n",
    "        # Do something at beginning of training\n",
    "        print(\"Starting training ...\")\n",
    "    \n",
    "    def on_train_batch_begin(self, batch, logs = None):\n",
    "        # Do something at the beginning of every batch iteration\n",
    "        print(\"Starting the training of batch {}\".format(batch))\n",
    "        \n",
    "    def on_epoch_begin(self, epoch, logs=None):\n",
    "        # Do something at the beginning of every epoch\n",
    "        print(\"Starting epoch {}\".format(epoch))\n",
    "        \n",
    "    def on_train_batch_end(self, batch, logs = None):\n",
    "        # Do something at the end of every batch iteration\n",
    "        print(\"Finished the training of batch {}\".format(batch))\n",
    "     \n",
    "    def on_epoch_end(self, epoch, logs=None):\n",
    "        # Do something at the end of every epoch\n",
    "        print(\"Finishing epoch {}\".format(epoch))\n",
    "         \n",
    "    def on_train_end(self, logs = None):\n",
    "        # Do something at beginning of training\n",
    "        print(\"Finished training.\")"
   ]
  },
  {
   "cell_type": "code",
   "execution_count": null,
   "metadata": {},
   "outputs": [],
   "source": [
    "model.compile(optimizer = \"adam\", loss = \"mse\")\n",
    "history = model.fit(train_images[..., np.newaxis], train_labels, epochs=10, batch_size=256, validation_split=0.2, callbacks = [trainingcallback()])"
   ]
  },
  {
   "cell_type": "markdown",
   "metadata": {},
   "source": [
    "## Early stopping using callbacks"
   ]
  },
  {
   "cell_type": "code",
   "execution_count": null,
   "metadata": {},
   "outputs": [],
   "source": [
    "from tensorflow.keras.callbacks import EarlyStopping\n",
    "es = EarlyStopping(monitor='val_accuracy', patience = 5)\n",
    "history = model.fit(train_images[..., np.newaxis], train_labels, epochs=10, batch_size=256, validation_split=0.2, callbacks = [es()])"
   ]
  }
 ],
 "metadata": {
  "kernelspec": {
   "display_name": "Python 3.7.5 64-bit ('dbn': conda)",
   "language": "python",
   "name": "python37564bitdbnconda0ff40c201a374a3db2aacabb837785f4"
  },
  "language_info": {
   "codemirror_mode": {
    "name": "ipython",
    "version": 3
   },
   "file_extension": ".py",
   "mimetype": "text/x-python",
   "name": "python",
   "nbconvert_exporter": "python",
   "pygments_lexer": "ipython3",
   "version": "3.7.5"
  }
 },
 "nbformat": 4,
 "nbformat_minor": 2
}
