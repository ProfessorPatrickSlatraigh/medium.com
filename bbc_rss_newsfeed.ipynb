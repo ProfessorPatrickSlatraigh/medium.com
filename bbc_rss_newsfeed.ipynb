{
  "nbformat": 4,
  "nbformat_minor": 0,
  "metadata": {
    "colab": {
      "name": "bbc_rss_newsfeed.ipynb",
      "provenance": [],
      "collapsed_sections": [],
      "authorship_tag": "ABX9TyPHFKLWJNV5CQ30IvXmYR8g",
      "include_colab_link": true
    },
    "kernelspec": {
      "name": "python3",
      "display_name": "Python 3"
    },
    "language_info": {
      "name": "python"
    }
  },
  "cells": [
    {
      "cell_type": "markdown",
      "metadata": {
        "id": "view-in-github",
        "colab_type": "text"
      },
      "source": [
        "<a href=\"https://colab.research.google.com/github/ProfessorPatrickSlatraigh/medium.com/blob/master/bbc_rss_newsfeed.ipynb\" target=\"_parent\"><img src=\"https://colab.research.google.com/assets/colab-badge.svg\" alt=\"Open In Colab\"/></a>"
      ]
    },
    {
      "cell_type": "markdown",
      "source": [
        "#BBC RSS News Feed\n",
        "\n",
        "A simple Python program to read the XML provided by the BBC online    "
      ],
      "metadata": {
        "id": "ISn2d2lR_GjR"
      }
    },
    {
      "cell_type": "markdown",
      "source": [
        "Some standard notations used in this code:    \n",
        "\n",
        "* **_api** : denotes an API address/parameters   \n",
        "* **_bool** : denotes a Boolean variable     \n",
        "* **_dict** : denotes a dictionary variable \n",
        "* **_df** : denotes a dataframe variable    \n",
        "* **_dt** : denotes a datetime variable    \n",
        "* **_lst** : denotes a list variable     \n",
        "* **_pdf** : denotes a FPDF file variable     \n",
        "* **_ser** : denotes a series variable    \n",
        "* **_str** : denotes a string variable    \n",
        "* **_xml** : denotes a variable with XML content   "
      ],
      "metadata": {
        "id": "Ne_YHdB8BJhe"
      }
    },
    {
      "cell_type": "markdown",
      "source": [
        "##Housekeeping    \n"
      ],
      "metadata": {
        "id": "sllsX5vk_Rta"
      }
    },
    {
      "cell_type": "markdown",
      "source": [
        "Import libraries needed  \n"
      ],
      "metadata": {
        "id": "I_4Hnars_WlO"
      }
    },
    {
      "cell_type": "code",
      "source": [
        "# BBC RSS newsfeed API - import libraries \n",
        "\n",
        "# Housekeeping - import libraries\n",
        "from urllib.request import urlopen        # to request a feed from an API\n",
        "from xml.etree.ElementTree import parse   # to read/parse XML content\n",
        "\n",
        "from datetime import datetime             # for dates and times\n"
      ],
      "metadata": {
        "id": "c60_zZ2N_fkw"
      },
      "execution_count": 17,
      "outputs": []
    },
    {
      "cell_type": "markdown",
      "source": [
        "Capture the current date and time    \n"
      ],
      "metadata": {
        "id": "oCqqNTfVBAaH"
      }
    },
    {
      "cell_type": "code",
      "source": [
        "start_dt_str = datetime.today().strftime('%Y-%m-%d %H:%M:%S UTC')\n",
        "print(f'The program began running at:', start_dt_str)"
      ],
      "metadata": {
        "colab": {
          "base_uri": "https://localhost:8080/"
        },
        "id": "XL5dJ21ABDFi",
        "outputId": "a913655e-920c-4ade-d6bd-efd4cfa96477"
      },
      "execution_count": 22,
      "outputs": [
        {
          "output_type": "stream",
          "name": "stdout",
          "text": [
            "The program began running at: 2022-05-24 03:17:40 UTC\n"
          ]
        }
      ]
    },
    {
      "cell_type": "markdown",
      "source": [
        "##Read the API Feed, Parse, and Print     \n"
      ],
      "metadata": {
        "id": "ZfkaZ0mY_vRW"
      }
    },
    {
      "cell_type": "markdown",
      "source": [
        "---"
      ],
      "metadata": {
        "id": "yzmUo1tDHF7F"
      }
    },
    {
      "cell_type": "markdown",
      "source": [
        "Open the specific BBC RSS XML feed to be read.    \n",
        "\n",
        "*Run **ONE** of the following snippets to open the desired BBC feed.*\n"
      ],
      "metadata": {
        "id": "t331KhYs_lZD"
      }
    },
    {
      "cell_type": "code",
      "source": [
        "# BBC RSS newsfeed API - assign a URL for the desired newsfeed - World Edition, Americas\n",
        "url_api = urlopen('http://newsrss.bbc.co.uk/rss/newsonline_world_edition/americas/rss.xml') \n",
        "selected_feed_str = 'World Edition, Americas'\n"
      ],
      "metadata": {
        "id": "3cEAShUn_re8"
      },
      "execution_count": 25,
      "outputs": []
    },
    {
      "cell_type": "code",
      "source": [
        "# BBC RSS newsfeed API - assign a URL for the desired newsfeed - Top Stories, US & Canada\n",
        "url_api = urlopen('http://feeds.bbci.co.uk/news/rss.xml?edition=us')\n",
        "selected_feed_str = 'Top Stories, US & Canada'\n"
      ],
      "metadata": {
        "id": "zKR8_cvVFuDF"
      },
      "execution_count": 28,
      "outputs": []
    },
    {
      "cell_type": "code",
      "source": [
        "# BBC RSS newsfeed API - assign a URL for the desired newsfeed - BBC Magazine - News Stories\n",
        "url_api = urlopen('http://feeds.bbci.co.uk/news/stories/rss.xml')\n",
        "selected_feed_str = 'BBC Magazine - News Stories'\n"
      ],
      "metadata": {
        "id": "aSdOuPmnHDb5"
      },
      "execution_count": 30,
      "outputs": []
    },
    {
      "cell_type": "code",
      "source": [
        "# BBC RSS newsfeed API - assign a URL for the desired newsfeed - BBC News - In Pictures \n",
        "url_api = urlopen('http://feeds.bbci.co.uk/news/in_pictures/rss.xml')\n",
        "selected_feed_str = 'BBC News - In Pictures'\n"
      ],
      "metadata": {
        "id": "eSaaYCSzHgHk"
      },
      "execution_count": 32,
      "outputs": []
    },
    {
      "cell_type": "code",
      "source": [
        "# BBC RSS newsfeed API - assign a URL for the desired newsfeed - BBC News - The Editors Blog \n",
        "url_api = urlopen('https://www.bbc.co.uk/blogs/theeditors/rss.xml')\n",
        "selected_feed_str = 'BBC News - The Editors Blog'\n"
      ],
      "metadata": {
        "id": "NfX5TxquH4OR"
      },
      "execution_count": 34,
      "outputs": []
    },
    {
      "cell_type": "code",
      "source": [
        "# BBC RSS newsfeed API - assign a URL for the desired newsfeed - BBC News - Your Coronavirus Stories \n",
        "url_api = urlopen('http://feeds.bbci.co.uk/news/have_your_say/rss.xml')\n",
        "selected_feed_str = 'BBC News - Your Coronavirus Stories'\n"
      ],
      "metadata": {
        "id": "YzVeT29bISGk"
      },
      "execution_count": 36,
      "outputs": []
    },
    {
      "cell_type": "markdown",
      "source": [
        "---"
      ],
      "metadata": {
        "id": "G-w6d0P8HEJJ"
      }
    },
    {
      "cell_type": "markdown",
      "source": [
        "From the RSS API's XML, extract newsfeed items and their elements then print them    "
      ],
      "metadata": {
        "id": "TlpQpn_f_3dI"
      }
    },
    {
      "cell_type": "code",
      "execution_count": null,
      "metadata": {
        "id": "EV8KOHNg-bx-"
      },
      "outputs": [],
      "source": [
        "# BBC RSS newsfeed API -  read the XML elements on the RSS feed\n",
        "parsed_xml = parse(url_api)\n",
        "\n",
        "print(f'\\nBBC RSS feed used: {selected_feed_str}.\\n')\n",
        "\n",
        "# iterate through the RSS feed items and their elements\n",
        "for item_xml in parsed_xml.iterfind('channel/item'): \n",
        "    title_str = item_xml.findtext('title')\n",
        "    date_str = item_xml.findtext('pubDate')\n",
        "    link_str = item_xml.findtext('link')\n",
        "    \n",
        "    # print elements for each item in the RSS feed \n",
        "    read_dt_str = datetime.today().strftime('%Y-%m-%d %H:%M:%S UTC')\n",
        "    print(title_str)\n",
        "    print(f'Article dated: {date_str} was read at {read_dt_str}.')\n",
        "    print(link_str, end='\\n\\n')\n",
        "\n",
        "# printed output is latest news stories from the BBC"
      ]
    },
    {
      "cell_type": "markdown",
      "source": [
        "---"
      ],
      "metadata": {
        "id": "iwsfNxAgAHd3"
      }
    },
    {
      "cell_type": "markdown",
      "source": [
        "*You can add code to do all sorts of things:*    \n",
        "* *search for specific topics, names, or content*     \n",
        "* *forward all/some stories by email*    \n",
        "* *print a .PDF newsletter of stories*   \n",
        "* *and more...*   \n"
      ],
      "metadata": {
        "id": "x1oS7AmGAKC4"
      }
    },
    {
      "cell_type": "markdown",
      "source": [
        "Read [the documentation on available BBC RSS feeds](https://www.bbc.co.uk/developer/technology/feeds.html).    \n"
      ],
      "metadata": {
        "id": "_0FBN2gLFDGB"
      }
    },
    {
      "cell_type": "markdown",
      "source": [
        "---"
      ],
      "metadata": {
        "id": "fdizcxYJAhKP"
      }
    }
  ]
}